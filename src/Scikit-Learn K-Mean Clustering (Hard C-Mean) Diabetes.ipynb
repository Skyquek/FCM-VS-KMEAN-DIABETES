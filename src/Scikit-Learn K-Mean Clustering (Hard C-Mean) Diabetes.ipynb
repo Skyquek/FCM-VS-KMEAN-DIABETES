{
 "cells": [
  {
   "cell_type": "code",
   "execution_count": 13,
   "metadata": {},
   "outputs": [],
   "source": [
    "from sklearn import datasets\n",
    "import matplotlib.pyplot as plt\n",
    "import pandas as pd\n",
    "from sklearn.cluster import KMeans"
   ]
  },
  {
   "cell_type": "code",
   "execution_count": 14,
   "metadata": {},
   "outputs": [],
   "source": [
    "dataset = pd.read_csv('balanced_diabetes.csv')  # doctest: +SKIP"
   ]
  },
  {
   "cell_type": "markdown",
   "metadata": {
    "scrolled": true
   },
   "source": [
    "# Remove this comment if want to select attribute manually\n",
    "# Change Markdown to Code if want to use this\n",
    "labels = [\"Pregnancies\",\"Glucose\",\"BloodPressure\",\"SkinThickness\",\"Insulin\",\"BMI\",\"DiabetesPedigreeFunction\",\"Age\"]\n",
    "\n",
    "X = dataset[labels]\n",
    "y = dataset['Outcome']"
   ]
  },
  {
   "cell_type": "code",
   "execution_count": 55,
   "metadata": {
    "scrolled": false
   },
   "outputs": [
    {
     "name": "stdout",
     "output_type": "stream",
     "text": [
      "Within and Between 2: 5142544.699735325\n",
      "Within and Between 3: 2913492.724649518\n",
      "Within and Between 4: 2150968.154964995\n",
      "Within and Between 5: 1737786.514123533\n",
      "Within and Between 6: 1467147.5726962101\n",
      "Within and Between 7: 1301367.7800819953\n",
      "Within and Between 8: 1138070.5260202375\n",
      "Within and Between 9: 1001829.6229359306\n",
      "Within and Between 10: 931471.9269615258\n",
      "Within and Between 11: 866516.297456845\n",
      "Within and Between 12: 820398.2441136715\n",
      "Within and Between 13: 769559.5346588133\n",
      "Within and Between 14: 731138.577020494\n",
      "Within and Between 15: 704718.7575481179\n",
      "Within and Between 16: 676896.2430667102\n",
      "Within and Between 17: 646768.816511895\n",
      "Within and Between 18: 622942.1079983851\n",
      "Within and Between 19: 609078.2253562305\n",
      "Within and Between 20: 578329.3616623565\n",
      "Within and Between 21: 561050.7230399055\n",
      "Within and Between 22: 544280.0506984275\n",
      "Within and Between 23: 523618.28789603274\n",
      "Within and Between 24: 510904.1867309356\n",
      "Within and Between 25: 495798.78850753524\n",
      "Within and Between 26: 482781.9055364621\n",
      "Within and Between 27: 473555.56670244236\n",
      "Within and Between 28: 460927.08839541464\n",
      "Within and Between 29: 457285.79155167297\n"
     ]
    }
   ],
   "source": [
    "wcss = []\n",
    "for i in range(2, 30):\n",
    "    kmeans = KMeans(n_clusters=i, init='k-means++', max_iter=300, n_init=10, random_state=0)\n",
    "    kmeans.fit(dataset)\n",
    "    wcss.append(kmeans.inertia_)\n",
    "    print(\"Within and Between \" + str(i) + \": \" + str(kmeans.inertia_))"
   ]
  },
  {
   "cell_type": "code",
   "execution_count": 56,
   "metadata": {},
   "outputs": [
    {
     "data": {
      "image/png": "[encoded data removed]",
      "text/plain": [
       "<Figure size 432x288 with 1 Axes>"
      ]
     },
     "metadata": {
      "needs_background": "light"
     },
     "output_type": "display_data"
    }
   ],
   "source": [
    "plt.plot(range(2, 30), wcss)\n",
    "plt.title('Elbow Method')\n",
    "plt.xlabel('Number of clusters')\n",
    "plt.ylabel('WCSS')\n",
    "plt.show()"
   ]
  },
  {
   "cell_type": "code",
   "execution_count": 53,
   "metadata": {
    "scrolled": true
   },
   "outputs": [
    {
     "name": "stdout",
     "output_type": "stream",
     "text": [
      "[[4.25061425e+00 1.17201474e+02 6.74054054e+01 1.24766585e+01\n",
      "  2.88452088e+00 3.07228501e+01 4.17990172e-01 3.49484029e+01\n",
      "  3.48894349e-01]\n",
      " [3.63247863e+00 1.40358974e+02 7.28205128e+01 3.12307692e+01\n",
      "  2.22222222e+02 3.48683761e+01 5.95837607e-01 3.40683761e+01\n",
      "  5.29914530e-01]\n",
      " [3.45833333e+00 1.63000000e+02 7.08333333e+01 3.28333333e+01\n",
      "  5.09166667e+02 3.59000000e+01 6.07375000e-01 3.35416667e+01\n",
      "  5.83333333e-01]\n",
      " [3.25000000e+00 1.12781818e+02 7.00863636e+01 2.84181818e+01\n",
      "  9.95090909e+01 3.23859091e+01 4.90859091e-01 2.96090909e+01\n",
      "  2.27272727e-01]]\n"
     ]
    }
   ],
   "source": [
    "centers = km.cluster_centers_\n",
    "print(centers)"
   ]
  },
  {
   "cell_type": "code",
   "execution_count": 34,
   "metadata": {},
   "outputs": [],
   "source": [
    "labels = km.labels_"
   ]
  },
  {
   "cell_type": "code",
   "execution_count": 35,
   "metadata": {},
   "outputs": [
    {
     "data": {
      "text/plain": [
       "array([3])"
      ]
     },
     "execution_count": 35,
     "metadata": {},
     "output_type": "execute_result"
    }
   ],
   "source": [
    "test_data = [[111, 110, 111, 987, 4, 1, 33.6, 80,12]]\n",
    "km.predict(test_data)"
   ]
  },
  {
   "cell_type": "code",
   "execution_count": 54,
   "metadata": {},
   "outputs": [],
   "source": []
  },
  {
   "cell_type": "code",
   "execution_count": null,
   "metadata": {},
   "outputs": [],
   "source": []
  }
 ],
 "metadata": {
  "kernelspec": {
   "display_name": "Python 3",
   "language": "python",
   "name": "python3"
  },
  "language_info": {
   "codemirror_mode": {
    "name": "ipython",
    "version": 3
   },
   "file_extension": ".py",
   "mimetype": "text/x-python",
   "name": "python",
   "nbconvert_exporter": "python",
   "pygments_lexer": "ipython3",
   "version": "3.6.7"
  }
 },
 "nbformat": 4,
 "nbformat_minor": 2
}
