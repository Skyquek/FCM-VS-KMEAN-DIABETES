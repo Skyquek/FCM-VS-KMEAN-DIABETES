{
 "cells": [
  {
   "cell_type": "code",
   "execution_count": 35,
   "metadata": {},
   "outputs": [],
   "source": [
    "from sklearn import datasets\n",
    "import matplotlib.pyplot as plt\n",
    "import pandas as pd\n",
    "from sklearn.cluster import KMeans"
   ]
  },
  {
   "cell_type": "code",
   "execution_count": 36,
   "metadata": {},
   "outputs": [],
   "source": [
    "dataset = pd.read_csv('balanced_diabetes.csv')  # doctest: +SKIP"
   ]
  },
  {
   "cell_type": "code",
   "execution_count": 37,
   "metadata": {
    "scrolled": true
   },
   "outputs": [],
   "source": [
    "#Remove this comment if want to select attribute manually\n",
    "labels = [\"Pregnancies\",\"Glucose\",\"BloodPressure\",\"SkinThickness\",\"Insulin\",\"BMI\",\"DiabetesPedigreeFunction\",\"Age\"]\n",
    "\n",
    "X = dataset[labels]\n",
    "y = dataset['Outcome']"
   ]
  },
  {
   "cell_type": "code",
   "execution_count": 38,
   "metadata": {},
   "outputs": [
    {
     "data": {
      "text/plain": [
       "KMeans(algorithm='auto', copy_x=True, init='k-means++', max_iter=300,\n",
       "       n_clusters=4, n_init=10, n_jobs=4, precompute_distances='auto',\n",
       "       random_state=21, tol=0.0001, verbose=0)"
      ]
     },
     "execution_count": 38,
     "metadata": {},
     "output_type": "execute_result"
    }
   ],
   "source": [
    "km = KMeans(n_clusters = 4, n_jobs = 4, random_state=21)\n",
    "km.fit(dataset)"
   ]
  },
  {
   "cell_type": "code",
   "execution_count": 39,
   "metadata": {},
   "outputs": [
    {
     "name": "stdout",
     "output_type": "stream",
     "text": [
      "[[4.25061425e+00 1.17201474e+02 6.74054054e+01 1.24766585e+01\n",
      "  2.88452088e+00 3.07228501e+01 4.17990172e-01 3.49484029e+01\n",
      "  3.48894349e-01]\n",
      " [3.63247863e+00 1.40358974e+02 7.28205128e+01 3.12307692e+01\n",
      "  2.22222222e+02 3.48683761e+01 5.95837607e-01 3.40683761e+01\n",
      "  5.29914530e-01]\n",
      " [3.25000000e+00 1.12781818e+02 7.00863636e+01 2.84181818e+01\n",
      "  9.95090909e+01 3.23859091e+01 4.90859091e-01 2.96090909e+01\n",
      "  2.27272727e-01]\n",
      " [3.45833333e+00 1.63000000e+02 7.08333333e+01 3.28333333e+01\n",
      "  5.09166667e+02 3.59000000e+01 6.07375000e-01 3.35416667e+01\n",
      "  5.83333333e-01]]\n"
     ]
    }
   ],
   "source": [
    "centers = km.cluster_centers_\n",
    "print(centers)"
   ]
  },
  {
   "cell_type": "code",
   "execution_count": 40,
   "metadata": {},
   "outputs": [],
   "source": [
    "labels = km.labels_"
   ]
  },
  {
   "cell_type": "code",
   "execution_count": 43,
   "metadata": {},
   "outputs": [
    {
     "data": {
      "text/plain": [
       "array([2])"
      ]
     },
     "execution_count": 43,
     "metadata": {},
     "output_type": "execute_result"
    }
   ],
   "source": [
    "test_data = [[111, 110, 111, 987, 4, 1, 33.6, 80,12]]\n",
    "km.predict(test_data)"
   ]
  },
  {
   "cell_type": "code",
   "execution_count": null,
   "metadata": {},
   "outputs": [],
   "source": []
  }
 ],
 "metadata": {
  "kernelspec": {
   "display_name": "Python 3",
   "language": "python",
   "name": "python3"
  }
 },
 "nbformat": 4,
 "nbformat_minor": 2
}
