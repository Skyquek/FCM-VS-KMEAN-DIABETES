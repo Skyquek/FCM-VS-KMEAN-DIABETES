{
 "cells": [
  {
   "cell_type": "markdown",
   "metadata": {},
   "source": [
    "# Introduction\n",
    "\n",
    "This is fuzzy c-mean clustering using scikit-fuzzy. \n",
    "\n",
    "References:\n",
    "https://pythonhosted.org/scikit-fuzzy/auto_examples/plot_cmeans.html#example-plot-cmeans-py"
   ]
  },
  {
   "cell_type": "code",
   "execution_count": 1,
   "metadata": {},
   "outputs": [],
   "source": [
    "from __future__ import division, print_function\n",
    "import numpy as np\n",
    "import matplotlib.pyplot as plt\n",
    "import skfuzzy as fuzz\n",
    "import pandas as pd"
   ]
  },
  {
   "cell_type": "code",
   "execution_count": 24,
   "metadata": {},
   "outputs": [],
   "source": [
    "dataset = pd.read_csv('balanced_diabetes.csv')"
   ]
  },
  {
   "cell_type": "markdown",
   "metadata": {
    "scrolled": true
   },
   "source": [
    "#Remove this comment if want to select attribute manually\n",
    "labels = [\"Pregnancies\",\"Glucose\",\"BloodPressure\",\"SkinThickness\",\"Insulin\",\"BMI\",\"DiabetesPedigreeFunction\",\"Age\"]\n",
    "\n",
    "X = dataset[labels]\n",
    "y = dataset['Outcome']"
   ]
  },
  {
   "cell_type": "markdown",
   "metadata": {},
   "source": [
    "from sklearn.model_selection import train_test_split\n",
    "\n",
    "# Separate the dataset become 70 percent trainning data and 30 percent testing dataset\n",
    "X_train, X_test, y_train, y_test = train_test_split(X, y, test_size=0.1, random_state=1)"
   ]
  },
  {
   "cell_type": "markdown",
   "metadata": {},
   "source": [
    "X_train"
   ]
  },
  {
   "cell_type": "markdown",
   "metadata": {},
   "source": [
    "## Parameters:\t\n",
    "\n",
    "data : 2d array, size (S, N)\n",
    "\n",
    "    Data to be clustered. N is the number of data sets; S is the number of features within each sample vector.\n",
    "\n",
    "c : int\n",
    "\n",
    "    Desired number of clusters or classes.\n",
    "\n",
    "m : float\n",
    "\n",
    "    Array exponentiation applied to the membership function u_old at each iteration, where U_new = u_old ** m.\n",
    "\n",
    "error : float\n",
    "\n",
    "    Stopping criterion; stop early if the norm of (u[p] - u[p-1]) < error.\n",
    "\n",
    "maxiter : int\n",
    "\n",
    "    Maximum number of iterations allowed.\n",
    "\n",
    "init : 2d array, size (S, N)\n",
    "\n",
    "    Initial fuzzy c-partitioned matrix. If none provided, algorithm is randomly initialized.\n",
    "\n",
    "seed : int\n",
    "\n",
    "    If provided, sets random seed of init. No effect if init is provided. Mainly for debug/testing purposes.\n",
    "\n",
    "\n",
    "## Returns:\t\n",
    "\n",
    "cntr : 2d array, size (S, c)\n",
    "\n",
    "    Cluster centers. Data for each center along each feature provided for every cluster (of the c requested clusters).\n",
    "\n",
    "u : 2d array, (S, N)\n",
    "\n",
    "    Final fuzzy c-partitioned matrix.\n",
    "\n",
    "u0 : 2d array, (S, N)\n",
    "\n",
    "    Initial guess at fuzzy c-partitioned matrix (either provided init or random guess used if init was not provided).\n",
    "\n",
    "d : 2d array, (S, N)\n",
    "\n",
    "    Final Euclidian distance matrix.\n",
    "\n",
    "jm : 1d array, length P\n",
    "\n",
    "    Objective function history.\n",
    "\n",
    "p : int\n",
    "\n",
    "    Number of iterations run.\n",
    "\n",
    "fpc : float\n",
    "\n",
    "    Final fuzzy partition coefficient."
   ]
  },
  {
   "cell_type": "code",
   "execution_count": 11,
   "metadata": {},
   "outputs": [],
   "source": [
    "#(data, c, m, error, maxiter, init=None, seed=None)\n",
    "num_of_cluster = 4\n",
    "cntr, u, u0, d, jm, p, fpc = fuzz.cluster.cmeans(dataset.T, num_of_cluster, 2, error=0.005, maxiter=1000)"
   ]
  },
  {
   "cell_type": "code",
   "execution_count": 12,
   "metadata": {},
   "outputs": [
    {
     "data": {
      "text/plain": [
       "array([[3.49020557e+00, 1.61225602e+02, 7.19809396e+01, 3.39336529e+01,\n",
       "        4.87971539e+02, 3.58619057e+01, 5.91363937e-01, 3.31953931e+01,\n",
       "        6.18129902e-01],\n",
       "       [3.56616506e+00, 1.36126178e+02, 7.27628062e+01, 3.11615312e+01,\n",
       "        1.97304364e+02, 3.48028192e+01, 5.86127305e-01, 3.32219022e+01,\n",
       "        4.93384988e-01],\n",
       "       [4.34483259e+00, 1.17305019e+02, 6.99681581e+01, 1.17450603e+01,\n",
       "        2.60168932e+00, 3.08917464e+01, 4.14774787e-01, 3.51057913e+01,\n",
       "        3.39344276e-01],\n",
       "       [2.95605603e+00, 1.07557535e+02, 6.75111788e+01, 2.61691123e+01,\n",
       "        8.23992362e+01, 3.13736713e+01, 4.82273480e-01, 2.88166515e+01,\n",
       "        1.88071121e-01]])"
      ]
     },
     "execution_count": 12,
     "metadata": {},
     "output_type": "execute_result"
    }
   ],
   "source": [
    "cntr"
   ]
  },
  {
   "cell_type": "markdown",
   "metadata": {},
   "source": [
    "## Parameters:\t\n",
    "\n",
    "test_data : 2d array, size (S, N)\n",
    "\n",
    "    New, independent data set to be predicted based on trained c-means from cmeans. N is the number of data sets; S is the number of features within each sample vector.\n",
    "\n",
    "cntr_trained : 2d array, size (S, c)\n",
    "\n",
    "    Location of trained centers from prior training c-means.\n",
    "\n",
    "m : float\n",
    "\n",
    "    Array exponentiation applied to the membership function u_old at each iteration, where U_new = u_old ** m.\n",
    "\n",
    "error : float\n",
    "\n",
    "    Stopping criterion; stop early if the norm of (u[p] - u[p-1]) < error.\n",
    "\n",
    "maxiter : int\n",
    "\n",
    "    Maximum number of iterations allowed.\n",
    "\n",
    "init : 2d array, size (S, N)\n",
    "\n",
    "    Initial fuzzy c-partitioned matrix. If none provided, algorithm is randomly initialized.\n",
    "\n",
    "seed : int\n",
    "\n",
    "    If provided, sets random seed of init. No effect if init is provided. Mainly for debug/testing purposes.\n",
    "\n",
    "## Returns:\t\n",
    "\n",
    "u : 2d array, (S, N)\n",
    "\n",
    "    Final fuzzy c-partitioned matrix.\n",
    "\n",
    "u0 : 2d array, (S, N)\n",
    "\n",
    "    Initial guess at fuzzy c-partitioned matrix (either provided init or random guess used if init was not provided).\n",
    "\n",
    "d : 2d array, (S, N)\n",
    "\n",
    "    Final Euclidian distance matrix.\n",
    "\n",
    "jm : 1d array, length P\n",
    "\n",
    "    Objective function history.\n",
    "\n",
    "p : int\n",
    "\n",
    "    Number of iterations run.\n",
    "\n",
    "fpc : float\n",
    "\n",
    "    Final fuzzy partition coefficient.\n"
   ]
  },
  {
   "cell_type": "code",
   "execution_count": 13,
   "metadata": {},
   "outputs": [],
   "source": [
    "# (test_data, cntr_trained, m, error, maxiter, init=None, seed=None)\n",
    "#test_data = [[111, 110, 111, 987, 4, 1, 33.6, 80,12]]\n",
    "\n",
    "#test_data = np.array([\n",
    "   # [111, 110, 111, 987, 4 , 1, 33.6 ,0, 12] \n",
    "#])\n",
    "#test_data = pd.DataFrame(test_data) "
   ]
  },
  {
   "cell_type": "code",
   "execution_count": 14,
   "metadata": {
    "scrolled": true
   },
   "outputs": [],
   "source": [
    "#test_data\n",
    "#dataset.shape"
   ]
  },
  {
   "cell_type": "code",
   "execution_count": 15,
   "metadata": {},
   "outputs": [],
   "source": [
    "#u, u0, d, jm, p, fpc = fuzz.cluster.cmeans_predict(test_data.T, cntr, 2, error=0.005, maxiter=1000)"
   ]
  },
  {
   "cell_type": "markdown",
   "metadata": {},
   "source": [
    "print(\"********************************************\")\n",
    "print(\"Available cluster:\")\n",
    "print(\"cntr: \" + str(cntr))\n",
    "print(\"********************************************\")\n",
    "\n",
    "print(\"Final fuzzy c-partitioned matrix(u): \" + str(u))\n",
    "print(\"\")\n",
    "print(\"Initial guess at fuzzy c-partitioned matrix (either provided init or random guess used if init was not provided)(u0): \" + str(u0))\n",
    "print(\"\")\n",
    "print(\"Final Euclidian distance matrix(d): \" + str(d))\n",
    "print(\"\")\n",
    "print(\"Objective function history(jm): \" + str(jm))\n",
    "print(\"\")\n",
    "print(\"Number of iterations run(p): \" + str(p))\n",
    "print(\"\")\n",
    "print(\"Final fuzzy partition coefficient(fpc): \" + str(fpc))"
   ]
  },
  {
   "cell_type": "code",
   "execution_count": 19,
   "metadata": {},
   "outputs": [
    {
     "name": "stdout",
     "output_type": "stream",
     "text": [
      "FPC 2: 0.8242022849397791\n",
      "FPC 3: 0.7633387571790776\n",
      "FPC 4: 0.6638070380967296\n",
      "FPC 5: 0.538344236236242\n",
      "FPC 6: 0.5250955551547999\n",
      "FPC 7: 0.4804018924983411\n",
      "FPC 8: 0.4217535212950863\n",
      "FPC 9: 0.39219843344789235\n",
      "FPC 10: 0.37024858336560057\n",
      "FPC 11: 0.33925931813729054\n",
      "FPC 12: 0.33440622745547893\n",
      "FPC 13: 0.3187582858580089\n",
      "FPC 14: 0.29597437523662085\n",
      "FPC 15: 0.286756446973476\n",
      "FPC 16: 0.2700952615264354\n",
      "FPC 17: 0.25424071916105845\n",
      "FPC 18: 0.2455334537593252\n",
      "FPC 19: 0.2324385048686273\n",
      "FPC 20: 0.22853358627069256\n",
      "FPC 21: 0.2150703888802983\n",
      "FPC 22: 0.21508781378634842\n",
      "FPC 23: 0.2061305263027082\n",
      "FPC 24: 0.20367730136750573\n",
      "FPC 25: 0.19169726364699993\n",
      "FPC 26: 0.18579884530228638\n",
      "FPC 27: 0.18827176470381035\n",
      "FPC 28: 0.18155741524481914\n",
      "FPC 29: 0.178599745810466\n",
      "FPC 30: 0.17160424250751724\n"
     ]
    }
   ],
   "source": [
    "fpcArr = []\n",
    "\n",
    "for i in range(2, 31):\n",
    "    cntr, u, u0, d, jm, p, fpc = fuzz.cluster.cmeans(dataset.T, i, 2, error=0.005, maxiter=1000)\n",
    "    fpcArr.append(fpc)\n",
    "    print(\"FPC \" + str(i) + \": \" + str(fpc))"
   ]
  },
  {
   "cell_type": "code",
   "execution_count": 23,
   "metadata": {},
   "outputs": [
    {
     "data": {
      "image/png": "[encoded data removed]",
      "text/plain": [
       "<Figure size 432x288 with 1 Axes>"
      ]
     },
     "metadata": {
      "needs_background": "light"
     },
     "output_type": "display_data"
    }
   ],
   "source": [
    "plt.plot(range(2, 31), fpcArr)\n",
    "plt.xlabel('Number of clusters')\n",
    "plt.ylabel('Fuzzy Partition Coefficient (FPC)')\n",
    "plt.show()"
   ]
  },
  {
   "cell_type": "markdown",
   "metadata": {},
   "source": [
    "The process of evaluating the results of a clustering algorithm is called cluster validity assessment. Two measurement criteria have been proposed for evaluating and selecting an optimal clustering scheme:\n",
    "\n",
    "- Compactness: The member of each cluster should be as close to each other as possible. A common measure of compactness is the variance.\n",
    "\n",
    "- Separation: The clusters themself should be widely separated. There are three common approaches emasures the distance between 2 clusters: distance between the closest member of the clusters, distance between the most distant members and distance between the centres of the clusters. "
   ]
  },
  {
   "cell_type": "code",
   "execution_count": null,
   "metadata": {},
   "outputs": [],
   "source": []
  }
 ],
 "metadata": {
  "kernelspec": {
   "display_name": "Python 3",
   "language": "python",
   "name": "python3"
  },
  "language_info": {
   "codemirror_mode": {
    "name": "ipython",
    "version": 3
   },
   "file_extension": ".py",
   "mimetype": "text/x-python",
   "name": "python",
   "nbconvert_exporter": "python",
   "pygments_lexer": "ipython3",
   "version": "3.7.5"
  }
 },
 "nbformat": 4,
 "nbformat_minor": 2
}
